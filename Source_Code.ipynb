{
 "cells": [
  {
   "cell_type": "markdown",
   "metadata": {},
   "source": [
    "# Team_A : XEntropistes - code source"
   ]
  },
  {
   "cell_type": "code",
   "execution_count": 40,
   "metadata": {},
   "outputs": [],
   "source": [
    "import numpy as np\n",
    "import pandas as pd\n",
    "import matplotlib.pyplot as plt\n",
    "import seaborn as sns\n",
    "from sklearn.ensemble import RandomForestClassifier \n",
    "from sklearn.model_selection import cross_validate,KFold,train_test_split\n",
    "from sklearn.linear_model import LogisticRegression\n",
    "from sklearn.metrics import confusion_matrix,roc_auc_score,roc_curve, auc\n"
   ]
  },
  {
   "cell_type": "markdown",
   "metadata": {},
   "source": [
    "# Load Data"
   ]
  },
  {
   "cell_type": "code",
   "execution_count": 2,
   "metadata": {},
   "outputs": [],
   "source": [
    "def load_Cookies_80():\n",
    "    return pd.read_csv(\"COOKIES_80.csv\")\n",
    "def load_Subsribers_80():\n",
    "    return pd.read_csv(\"SUBSCRIBERS_80.csv\")\n",
    "def load_Cookies_20():\n",
    "    return pd.read_csv(\"COOKIES_20.csv\")"
   ]
  },
  {
   "cell_type": "markdown",
   "metadata": {},
   "source": [
    "# Merge features and target "
   ]
  },
  {
   "cell_type": "code",
   "execution_count": 3,
   "metadata": {},
   "outputs": [],
   "source": [
    "def merge_features_data(coockies,subscribers):\n",
    "    subscribed = coockies.merge(subscribers, on='identifiant')\n",
    "    non_subscribed=coockies[~coockies['identifiant'].isin(subscribers['identifiant'])]\n",
    "    subscribed['TARGET']=1\n",
    "    non_subscribed['TARGET']=0\n",
    "    coockies=pd.concat([subscribed,non_subscribed], ignore_index=True)\n",
    "    return coockies"
   ]
  },
  {
   "cell_type": "markdown",
   "metadata": {},
   "source": [
    "# Rubrique Processing\n",
    "* process_rubrique() : retourne le nombre de reubriques consultées par utilisateur\n",
    "* rubrique() : classer les rubrique en 3 : rubrique fréquentes, moyenne et minimale :selon le nombre de rubriques consultées par utilisateur"
   ]
  },
  {
   "cell_type": "code",
   "execution_count": 4,
   "metadata": {},
   "outputs": [],
   "source": [
    "def process_rubrique(cookies):\n",
    "    cookies.rubrique.fillna(\"x\",inplace =True)\n",
    "    rubrique_id = cookies[['identifiant','rubrique']].groupby('identifiant').agg(['count'])\n",
    "    return rubrique_id\n",
    "\n",
    "def rubrique(cookies):\n",
    "    periode = []\n",
    "    mean =cookies[cookies.columns[1]].mean()\n",
    "    median=cookies[cookies.columns[1]].median()\n",
    "    for x in cookies[cookies.columns[1]]:\n",
    "        if (x >= mean):\n",
    "            periode.append(\"rub_fq\")\n",
    "        elif (x >= median and x < mean):\n",
    "            periode.append(\"rub_moy\")\n",
    "        else :\n",
    "            periode.append(\"rub_min\")\n",
    "    cookies[\"RUB\"] = periode "
   ]
  },
  {
   "cell_type": "markdown",
   "metadata": {},
   "source": [
    "# Concat by Identifiant two datasets\n",
    "* concat_by_identifiant() : retourn une dataset concatenée par l'identifiant\n",
    "* get_unique_identifiant() : retourn les identifiants uniques"
   ]
  },
  {
   "cell_type": "code",
   "execution_count": 5,
   "metadata": {},
   "outputs": [],
   "source": [
    "def concat_by_identifiat(dataset1,dataset2):\n",
    "    dataset=pd.merge(dataset1, dataset2, left_index=True, right_index=True, how='outer')\n",
    "    return dataset"
   ]
  },
  {
   "cell_type": "code",
   "execution_count": 6,
   "metadata": {},
   "outputs": [],
   "source": [
    "def get_unique_identifiant(cookies,dataset_to_predict=False):\n",
    "    if(dataset_to_predict!=True): \n",
    "        target_identifiant = cookies[['identifiant','TARGET']].drop_duplicates([\"identifiant\"])\n",
    "    else : \n",
    "        target_identifiant = cookies[['identifiant']].drop_duplicates([\"identifiant\"])\n",
    "        \n",
    "    target_identifiant.set_index('identifiant', inplace=True)\n",
    "    return target_identifiant"
   ]
  },
  {
   "cell_type": "markdown",
   "metadata": {},
   "source": [
    "# Get Time by page\n",
    "* get_mean_time_by_page() : retourn la durée moyenne passée par chaque utilisateurs dans chaque page "
   ]
  },
  {
   "cell_type": "code",
   "execution_count": 7,
   "metadata": {},
   "outputs": [],
   "source": [
    "def get_mean_time_by_page(cookies):\n",
    "    cookies['duree_visite_moyenne'] = cookies['temps_page'].groupby(cookies['identifiant']).transform('mean')\n",
    "    df_DUREE = cookies[[\"duree_visite_moyenne\",\"identifiant\"]].drop_duplicates([\"identifiant\"])\n",
    "    df_DUREE.set_index('identifiant', inplace=True)\n",
    "    return df_DUREE"
   ]
  },
  {
   "cell_type": "markdown",
   "metadata": {},
   "source": [
    "# Date heure visite processing"
   ]
  },
  {
   "cell_type": "code",
   "execution_count": 8,
   "metadata": {},
   "outputs": [],
   "source": [
    "def split_houre_date_(cookies):\n",
    "    date_visite = []\n",
    "    heure_visite = []\n",
    "\n",
    "    for x in cookies[\"date_heure_visite\"]:\n",
    "        date_visite.append(int(x[0]+x[1]))\n",
    "        x_split = x.split(\":\")\n",
    "        heure_visite.append(int(x_split[1]+x_split[2]+x_split[3]))\n",
    "    \n",
    "    cookies[\"heure_visite\"] = heure_visite\n",
    "    cookies[\"date_visite\"] = date_visite\n",
    "    return cookies"
   ]
  },
  {
   "cell_type": "markdown",
   "metadata": {},
   "source": [
    "* periode() :  dévise les heures de visite à des périodes afin de détecter par la suite la période la plus fréquente de visite du site "
   ]
  },
  {
   "cell_type": "code",
   "execution_count": 9,
   "metadata": {},
   "outputs": [],
   "source": [
    "def periode(cookies):\n",
    "    periode = []\n",
    "    for x in cookies[\"heure_visite\"]:\n",
    "        if (x >=80000 and x<120000):\n",
    "            periode.append(\"MATIN\")\n",
    "        elif (x >=120000 and x<180000):\n",
    "            periode.append(\"MIDI\")\n",
    "        elif (x >=180000) :\n",
    "            periode.append(\"SOIR\")\n",
    "        else:\n",
    "            periode.append(\"NUIT\")   \n",
    "    return periode "
   ]
  },
  {
   "cell_type": "code",
   "execution_count": 10,
   "metadata": {},
   "outputs": [],
   "source": [
    "def period_count(cookies):\n",
    "    df_periode_id = cookies[['identifiant','PERIODE']].groupby('identifiant').agg(['count'])\n",
    "    return df_periode_id"
   ]
  },
  {
   "cell_type": "markdown",
   "metadata": {},
   "source": [
    "* duree() :  retourne la durée maximale et minimale de chaque utilisateur"
   ]
  },
  {
   "cell_type": "code",
   "execution_count": 11,
   "metadata": {},
   "outputs": [],
   "source": [
    "def duree(cookies):\n",
    "    periode = []\n",
    "    mean = cookies.duree_visite_moyenne.mean()\n",
    "    for x in cookies[\"duree_visite_moyenne\"]:\n",
    "        if (x >= mean):\n",
    "            periode.append(\"duree_max\")\n",
    "        else:\n",
    "            periode.append(\"duree_min\")\n",
    "    cookies[\"DUREE_VISITE\"] = periode "
   ]
  },
  {
   "cell_type": "markdown",
   "metadata": {},
   "source": [
    "* duree() :  retourne si l'utilisateur à visiter le site la dernière semaine ou non "
   ]
  },
  {
   "cell_type": "code",
   "execution_count": 12,
   "metadata": {},
   "outputs": [],
   "source": [
    "def last(cookies):\n",
    "    periode = []\n",
    "    mean = 24\n",
    "    for x in cookies[\"dernier_jour\"]:\n",
    "        if (x >= mean):\n",
    "            periode.append(\"last_week\")\n",
    "        else:\n",
    "            periode.append(\"no_last_week\")\n",
    "    cookies[\"LAST_WEEK\"] = periode "
   ]
  },
  {
   "cell_type": "markdown",
   "metadata": {},
   "source": [
    "#   number visite   feature\n",
    "* get_Nbr_visite() : retourne le nombre de visite par chaque utilisateurs\n",
    "* get_Nbr_visite_day() : retourne le nombre de visite par jour\n",
    "* last_week_visit() : retourne le dernier jour où l'utilisateur à visiter le site\n",
    "* visite() : retourne une classification des visite à des visites fréquentes, moyennes ou minimales selon le nombre de visite par utilisat\n",
    "* jour_visite() : retourne une classification des visites régulières à des visites par jour fréquentes, moyennes ou minimales selon le nombre de visite par utilisat"
   ]
  },
  {
   "cell_type": "code",
   "execution_count": 13,
   "metadata": {},
   "outputs": [],
   "source": [
    "def get_Nbr_visite(cookies):\n",
    "    cookies[\"visite_totale\"] =cookies['id_visite'].groupby(cookies['identifiant']).transform('count')\n",
    "    df_NBR_VISITE =  cookies[[\"visite_totale\",\"identifiant\"]]\n",
    "    df_NBR_VISITE.drop_duplicates([\"identifiant\"],inplace = True)\n",
    "    df_NBR_VISITE.set_index('identifiant', inplace=True)\n",
    "    return df_NBR_VISITE\n",
    "\n",
    "def get_Nbr_visite_day(cookies):\n",
    "    cookies = split_houre_date_(cookies)\n",
    "    a =cookies.groupby(['date_visite','identifiant']).size().reset_index().groupby('identifiant')[[0]].mean()\n",
    "    a.columns = ['avg_visite_jour']\n",
    "    return a\n",
    "\n",
    "def last_week_visit(cookies):\n",
    "    cookies = split_houre_date_(cookies)\n",
    "    a =cookies[['identifiant','date_visite']].groupby('identifiant').agg(['max'])\n",
    "    a.columns = ['dernier_jour']\n",
    "    return a\n",
    "\n",
    "def visite(cookies):\n",
    "    periode = []\n",
    "    mean = cookies.visite_totale.mean()\n",
    "    median = cookies.visite_totale.median()\n",
    "    for x in cookies[\"visite_totale\"]:\n",
    "        if (x >= mean):\n",
    "            periode.append(\"visite_fq\")\n",
    "        elif (x >= median and x < mean):\n",
    "            periode.append(\"visite_moy\")\n",
    "        else :\n",
    "            periode.append(\"visite_rare\")\n",
    "    cookies[\"VISITE\"] = periode \n",
    "    \n",
    "def jour_visite(cookies):\n",
    "    periode = []\n",
    "    mean = cookies.avg_visite_jour.mean()\n",
    "    median = cookies.avg_visite_jour.median()\n",
    "    for x in cookies[\"avg_visite_jour\"]:\n",
    "        if (x >= mean):\n",
    "            periode.append(\"jvisite_fq\")\n",
    "        elif (x >= median and x < mean):\n",
    "            periode.append(\"jvisite_moy\")\n",
    "        else :\n",
    "            periode.append(\"jvisite_rare\")\n",
    "    cookies[\"JOUR_VISITE\"] = periode "
   ]
  },
  {
   "cell_type": "markdown",
   "metadata": {},
   "source": [
    "# Process OS & browser\n",
    "* process_os(): retourn que le nom du OS sans version\n",
    "* process_browser(): retourne que le nom du browser sans version"
   ]
  },
  {
   "cell_type": "code",
   "execution_count": 14,
   "metadata": {},
   "outputs": [],
   "source": [
    "def process_os(cookies):\n",
    "    cookies[\"os\"]=cookies.os.str.split(\" \",expand=True)[0]\n",
    "    return cookies\n",
    "def process_browser(cookies):\n",
    "    cookies[\"browser\"]=cookies.browser.str.split(\" \",expand=True)[0]\n",
    "    return cookies"
   ]
  },
  {
   "cell_type": "markdown",
   "metadata": {},
   "source": [
    "# binarise N top class\n",
    "\n",
    "* binarise_top_n(): \n",
    "    1. permet de retourner les top N classes d'une colonne et pour les autres les classer comme \"Autre\"\n",
    "    2. permet d'encoder la colonne "
   ]
  },
  {
   "cell_type": "code",
   "execution_count": 15,
   "metadata": {},
   "outputs": [],
   "source": [
    "def binarise_top_n(df, column, replacement, number):\n",
    "    top_cities = df[column].value_counts().head(number).index\n",
    "    other_cities = list(set(df[column]) - set(top_cities))\n",
    "    one_hot_encoded_data = pd.get_dummies(df[column].replace(other_cities, replacement))\n",
    "    one_hot_encoded_data['identifiant'] = df.identifiant\n",
    "    return one_hot_encoded_data"
   ]
  },
  {
   "cell_type": "code",
   "execution_count": 16,
   "metadata": {},
   "outputs": [],
   "source": [
    "def binarise(df, column):\n",
    "    one_hot_encoded_data = pd.get_dummies(df[column])\n",
    "    return one_hot_encoded_data"
   ]
  },
  {
   "cell_type": "markdown",
   "metadata": {},
   "source": [
    "# Get dominant classe of a column by Identifiant\n",
    "\n",
    "* get_Dominant_Class() : permet de retourner la classe la plus dominate d'une colonne par identifiant"
   ]
  },
  {
   "cell_type": "code",
   "execution_count": 17,
   "metadata": {},
   "outputs": [],
   "source": [
    "def get_Dominant_Class(data,column,n):\n",
    "    new_col=column+'_dominant'\n",
    "    df_column=data.groupby('identifiant')[column].max()\n",
    "    df_column=df_column.to_frame(new_col).reset_index()\n",
    "    df_column=binarise_top_n(df_column, new_col, column+'_AUTRE', n)\n",
    "    df_column.set_index('identifiant', inplace=True)\n",
    "    return df_column"
   ]
  },
  {
   "cell_type": "markdown",
   "metadata": {},
   "source": [
    "# Process all dataset"
   ]
  },
  {
   "cell_type": "code",
   "execution_count": 18,
   "metadata": {},
   "outputs": [],
   "source": [
    "def process_dataset(cookies,subscribers):\n",
    "    \n",
    "    cookies=process_browser(cookies)\n",
    "    cookies=process_os(cookies)\n",
    "    \n",
    "    rubrique_identifiant=process_rubrique(cookies)\n",
    "    \n",
    "    if(subscribers.empty==False): \n",
    "        cookies=merge_features_data(cookies,subscribers)\n",
    "        target_identifiant=get_unique_identifiant(cookies)\n",
    "    else :  \n",
    "        target_identifiant=get_unique_identifiant(cookies,True)\n",
    "   \n",
    "    df=concat_by_identifiat(target_identifiant,rubrique_identifiant)\n",
    "    \n",
    "    df_DUREE=get_mean_time_by_page(cookies)\n",
    "    df=concat_by_identifiat(df,df_DUREE)\n",
    "    \n",
    "    df_NBR_VISITE=get_Nbr_visite(cookies)\n",
    "    df=concat_by_identifiat(df,df_NBR_VISITE)\n",
    "    \n",
    "    df_NBR_VISITE_day=get_Nbr_visite_day(cookies)\n",
    "    df=concat_by_identifiat(df,df_NBR_VISITE_day)\n",
    "    \n",
    "    df_last_week_visit= last_week_visit(cookies)\n",
    "    df=concat_by_identifiat(df,df_last_week_visit)\n",
    "        \n",
    "    df_domin_device=get_Dominant_Class(cookies,'device',3)\n",
    "    df=concat_by_identifiat(df,df_domin_device)\n",
    "    \n",
    "    df_domin_os=get_Dominant_Class(cookies,'os',4)\n",
    "    df=concat_by_identifiat(df,df_domin_os)\n",
    "    \n",
    "    df_domin_browser=get_Dominant_Class(cookies,'browser',4)\n",
    "    df=concat_by_identifiat(df,df_domin_browser)\n",
    "    \n",
    "    df_domin_source=get_Dominant_Class(cookies,'source',4)\n",
    "    df=concat_by_identifiat(df,df_domin_source)\n",
    "    \n",
    "\n",
    "    \n",
    "    return df\n",
    "    \n",
    "    "
   ]
  },
  {
   "cell_type": "markdown",
   "metadata": {},
   "source": [
    "# Cross validation "
   ]
  },
  {
   "cell_type": "code",
   "execution_count": 19,
   "metadata": {},
   "outputs": [],
   "source": [
    "def get_scores(clf,train_features,train_labels,scoring):\n",
    "    model = clf\n",
    "    cv = KFold(n_splits=10,shuffle=True,random_state=5)\n",
    "    scores = cross_validate(model, train_features, train_labels, scoring=scoring, cv=cv)\n",
    "    return scores"
   ]
  },
  {
   "cell_type": "markdown",
   "metadata": {},
   "source": [
    "# ------------------------------------------------------------------------------------------------------------"
   ]
  },
  {
   "cell_type": "code",
   "execution_count": 20,
   "metadata": {},
   "outputs": [],
   "source": [
    "cookies_train=load_Cookies_80()\n",
    "cookies_to_predict=load_Cookies_20()\n",
    "subscribers_train=load_Subsribers_80()"
   ]
  },
  {
   "cell_type": "code",
   "execution_count": 23,
   "metadata": {},
   "outputs": [
    {
     "name": "stderr",
     "output_type": "stream",
     "text": [
      "C:\\Users\\Lenovo\\Anaconda3\\lib\\site-packages\\ipykernel_launcher.py:5: SettingWithCopyWarning: \n",
      "A value is trying to be set on a copy of a slice from a DataFrame.\n",
      "Try using .loc[row_indexer,col_indexer] = value instead\n",
      "\n",
      "See the caveats in the documentation: http://pandas.pydata.org/pandas-docs/stable/indexing.html#indexing-view-versus-copy\n",
      "  \"\"\"\n",
      "C:\\Users\\Lenovo\\Anaconda3\\lib\\site-packages\\pandas\\core\\reshape\\merge.py:522: UserWarning: merging between different levels can give an unintended result (1 levels on the left, 2 on the right)\n",
      "  warnings.warn(msg, UserWarning)\n",
      "C:\\Users\\Lenovo\\Anaconda3\\lib\\site-packages\\ipykernel_launcher.py:4: SettingWithCopyWarning: \n",
      "A value is trying to be set on a copy of a slice from a DataFrame\n",
      "\n",
      "See the caveats in the documentation: http://pandas.pydata.org/pandas-docs/stable/indexing.html#indexing-view-versus-copy\n",
      "  after removing the cwd from sys.path.\n"
     ]
    },
    {
     "data": {
      "text/html": [
       "<div>\n",
       "<style scoped>\n",
       "    .dataframe tbody tr th:only-of-type {\n",
       "        vertical-align: middle;\n",
       "    }\n",
       "\n",
       "    .dataframe tbody tr th {\n",
       "        vertical-align: top;\n",
       "    }\n",
       "\n",
       "    .dataframe thead th {\n",
       "        text-align: right;\n",
       "    }\n",
       "</style>\n",
       "<table border=\"1\" class=\"dataframe\">\n",
       "  <thead>\n",
       "    <tr style=\"text-align: right;\">\n",
       "      <th></th>\n",
       "      <th>TARGET</th>\n",
       "      <th>(rubrique, count)</th>\n",
       "      <th>duree_visite_moyenne</th>\n",
       "      <th>visite_totale</th>\n",
       "      <th>avg_visite_jour</th>\n",
       "      <th>dernier_jour</th>\n",
       "      <th>Ordinateur</th>\n",
       "      <th>Smartphone</th>\n",
       "      <th>Tablette</th>\n",
       "      <th>device_AUTRE</th>\n",
       "      <th>...</th>\n",
       "      <th>Autres</th>\n",
       "      <th>Chrome</th>\n",
       "      <th>Firefox</th>\n",
       "      <th>Safari</th>\n",
       "      <th>browser_AUTRE</th>\n",
       "      <th>Acces Direct</th>\n",
       "      <th>Email marketing</th>\n",
       "      <th>Moteurs</th>\n",
       "      <th>Reseaux Sociaux</th>\n",
       "      <th>source_AUTRE</th>\n",
       "    </tr>\n",
       "    <tr>\n",
       "      <th>identifiant</th>\n",
       "      <th></th>\n",
       "      <th></th>\n",
       "      <th></th>\n",
       "      <th></th>\n",
       "      <th></th>\n",
       "      <th></th>\n",
       "      <th></th>\n",
       "      <th></th>\n",
       "      <th></th>\n",
       "      <th></th>\n",
       "      <th></th>\n",
       "      <th></th>\n",
       "      <th></th>\n",
       "      <th></th>\n",
       "      <th></th>\n",
       "      <th></th>\n",
       "      <th></th>\n",
       "      <th></th>\n",
       "      <th></th>\n",
       "      <th></th>\n",
       "      <th></th>\n",
       "    </tr>\n",
       "  </thead>\n",
       "  <tbody>\n",
       "    <tr>\n",
       "      <th>DI10</th>\n",
       "      <td>0</td>\n",
       "      <td>7</td>\n",
       "      <td>0.0</td>\n",
       "      <td>7</td>\n",
       "      <td>2.333333</td>\n",
       "      <td>31</td>\n",
       "      <td>1</td>\n",
       "      <td>0</td>\n",
       "      <td>0</td>\n",
       "      <td>0</td>\n",
       "      <td>...</td>\n",
       "      <td>0</td>\n",
       "      <td>1</td>\n",
       "      <td>0</td>\n",
       "      <td>0</td>\n",
       "      <td>0</td>\n",
       "      <td>0</td>\n",
       "      <td>0</td>\n",
       "      <td>1</td>\n",
       "      <td>0</td>\n",
       "      <td>0</td>\n",
       "    </tr>\n",
       "    <tr>\n",
       "      <th>DI1000005</th>\n",
       "      <td>0</td>\n",
       "      <td>3</td>\n",
       "      <td>0.0</td>\n",
       "      <td>3</td>\n",
       "      <td>1.500000</td>\n",
       "      <td>15</td>\n",
       "      <td>0</td>\n",
       "      <td>1</td>\n",
       "      <td>0</td>\n",
       "      <td>0</td>\n",
       "      <td>...</td>\n",
       "      <td>0</td>\n",
       "      <td>0</td>\n",
       "      <td>0</td>\n",
       "      <td>1</td>\n",
       "      <td>0</td>\n",
       "      <td>1</td>\n",
       "      <td>0</td>\n",
       "      <td>0</td>\n",
       "      <td>0</td>\n",
       "      <td>0</td>\n",
       "    </tr>\n",
       "    <tr>\n",
       "      <th>DI1000026</th>\n",
       "      <td>0</td>\n",
       "      <td>2</td>\n",
       "      <td>0.0</td>\n",
       "      <td>2</td>\n",
       "      <td>2.000000</td>\n",
       "      <td>14</td>\n",
       "      <td>0</td>\n",
       "      <td>1</td>\n",
       "      <td>0</td>\n",
       "      <td>0</td>\n",
       "      <td>...</td>\n",
       "      <td>1</td>\n",
       "      <td>0</td>\n",
       "      <td>0</td>\n",
       "      <td>0</td>\n",
       "      <td>0</td>\n",
       "      <td>0</td>\n",
       "      <td>0</td>\n",
       "      <td>0</td>\n",
       "      <td>0</td>\n",
       "      <td>1</td>\n",
       "    </tr>\n",
       "    <tr>\n",
       "      <th>DI1000028</th>\n",
       "      <td>0</td>\n",
       "      <td>4</td>\n",
       "      <td>2.5</td>\n",
       "      <td>4</td>\n",
       "      <td>2.000000</td>\n",
       "      <td>14</td>\n",
       "      <td>0</td>\n",
       "      <td>1</td>\n",
       "      <td>0</td>\n",
       "      <td>0</td>\n",
       "      <td>...</td>\n",
       "      <td>0</td>\n",
       "      <td>1</td>\n",
       "      <td>0</td>\n",
       "      <td>0</td>\n",
       "      <td>0</td>\n",
       "      <td>0</td>\n",
       "      <td>0</td>\n",
       "      <td>0</td>\n",
       "      <td>1</td>\n",
       "      <td>0</td>\n",
       "    </tr>\n",
       "    <tr>\n",
       "      <th>DI1000029</th>\n",
       "      <td>0</td>\n",
       "      <td>11</td>\n",
       "      <td>410.0</td>\n",
       "      <td>11</td>\n",
       "      <td>3.666667</td>\n",
       "      <td>16</td>\n",
       "      <td>1</td>\n",
       "      <td>0</td>\n",
       "      <td>0</td>\n",
       "      <td>0</td>\n",
       "      <td>...</td>\n",
       "      <td>0</td>\n",
       "      <td>1</td>\n",
       "      <td>0</td>\n",
       "      <td>0</td>\n",
       "      <td>0</td>\n",
       "      <td>1</td>\n",
       "      <td>0</td>\n",
       "      <td>0</td>\n",
       "      <td>0</td>\n",
       "      <td>0</td>\n",
       "    </tr>\n",
       "  </tbody>\n",
       "</table>\n",
       "<p>5 rows × 25 columns</p>\n",
       "</div>"
      ],
      "text/plain": [
       "             TARGET  (rubrique, count)  duree_visite_moyenne  visite_totale  \\\n",
       "identifiant                                                                   \n",
       "DI10              0                  7                   0.0              7   \n",
       "DI1000005         0                  3                   0.0              3   \n",
       "DI1000026         0                  2                   0.0              2   \n",
       "DI1000028         0                  4                   2.5              4   \n",
       "DI1000029         0                 11                 410.0             11   \n",
       "\n",
       "             avg_visite_jour  dernier_jour  Ordinateur  Smartphone  Tablette  \\\n",
       "identifiant                                                                    \n",
       "DI10                2.333333            31           1           0         0   \n",
       "DI1000005           1.500000            15           0           1         0   \n",
       "DI1000026           2.000000            14           0           1         0   \n",
       "DI1000028           2.000000            14           0           1         0   \n",
       "DI1000029           3.666667            16           1           0         0   \n",
       "\n",
       "             device_AUTRE  ...  Autres  Chrome  Firefox  Safari  \\\n",
       "identifiant                ...                                    \n",
       "DI10                    0  ...       0       1        0       0   \n",
       "DI1000005               0  ...       0       0        0       1   \n",
       "DI1000026               0  ...       1       0        0       0   \n",
       "DI1000028               0  ...       0       1        0       0   \n",
       "DI1000029               0  ...       0       1        0       0   \n",
       "\n",
       "             browser_AUTRE  Acces Direct  Email marketing  Moteurs  \\\n",
       "identifiant                                                          \n",
       "DI10                     0             0                0        1   \n",
       "DI1000005                0             1                0        0   \n",
       "DI1000026                0             0                0        0   \n",
       "DI1000028                0             0                0        0   \n",
       "DI1000029                0             1                0        0   \n",
       "\n",
       "             Reseaux Sociaux  source_AUTRE  \n",
       "identifiant                                 \n",
       "DI10                       0             0  \n",
       "DI1000005                  0             0  \n",
       "DI1000026                  0             1  \n",
       "DI1000028                  1             0  \n",
       "DI1000029                  0             0  \n",
       "\n",
       "[5 rows x 25 columns]"
      ]
     },
     "execution_count": 23,
     "metadata": {},
     "output_type": "execute_result"
    }
   ],
   "source": [
    "processed_dataset=process_dataset(cookies_train,subscribers_train)\n",
    "processed_dataset.head()"
   ]
  },
  {
   "cell_type": "markdown",
   "metadata": {},
   "source": [
    "# HOT ENCODING for cookies trainset "
   ]
  },
  {
   "cell_type": "code",
   "execution_count": 24,
   "metadata": {},
   "outputs": [],
   "source": [
    "visite(processed_dataset)\n",
    "VISITE = binarise(processed_dataset,\"VISITE\")\n",
    "processed_dataset=concat_by_identifiat(processed_dataset,VISITE)\n",
    "processed_dataset= processed_dataset.drop([\"VISITE\"],axis = 1)\n",
    "processed_dataset= processed_dataset.drop([\"visite_totale\"],axis = 1)\n",
    "\n",
    "duree(processed_dataset)\n",
    "DVISITE = binarise(processed_dataset,\"DUREE_VISITE\")\n",
    "processed_dataset=concat_by_identifiat(processed_dataset,DVISITE)\n",
    "processed_dataset= processed_dataset.drop([\"DUREE_VISITE\"],axis = 1)\n",
    "processed_dataset= processed_dataset.drop([\"duree_visite_moyenne\"],axis = 1)\n",
    "\n",
    "jour_visite(processed_dataset)\n",
    "JVISITE = binarise(processed_dataset,\"JOUR_VISITE\")\n",
    "processed_dataset=concat_by_identifiat(processed_dataset,JVISITE)\n",
    "processed_dataset= processed_dataset.drop([\"JOUR_VISITE\"],axis = 1)\n",
    "processed_dataset= processed_dataset.drop([\"avg_visite_jour\"],axis = 1)\n",
    "\n",
    "rubrique(processed_dataset)\n",
    "RUB = binarise(processed_dataset,\"RUB\")\n",
    "processed_dataset=concat_by_identifiat(processed_dataset,RUB)\n",
    "processed_dataset= processed_dataset.drop([\"RUB\"],axis = 1)\n",
    "processed_dataset= processed_dataset.drop([processed_dataset.columns[1]],axis = 1)\n",
    "\n",
    "last(processed_dataset)\n",
    "LW = binarise(processed_dataset,\"LAST_WEEK\")\n",
    "processed_dataset=concat_by_identifiat(processed_dataset,LW)\n",
    "processed_dataset= processed_dataset.drop([\"LAST_WEEK\"],axis = 1)\n",
    "processed_dataset= processed_dataset.drop([\"dernier_jour\"],axis = 1)\n",
    "    "
   ]
  },
  {
   "cell_type": "code",
   "execution_count": 25,
   "metadata": {},
   "outputs": [
    {
     "data": {
      "text/html": [
       "<div>\n",
       "<style scoped>\n",
       "    .dataframe tbody tr th:only-of-type {\n",
       "        vertical-align: middle;\n",
       "    }\n",
       "\n",
       "    .dataframe tbody tr th {\n",
       "        vertical-align: top;\n",
       "    }\n",
       "\n",
       "    .dataframe thead th {\n",
       "        text-align: right;\n",
       "    }\n",
       "</style>\n",
       "<table border=\"1\" class=\"dataframe\">\n",
       "  <thead>\n",
       "    <tr style=\"text-align: right;\">\n",
       "      <th></th>\n",
       "      <th>TARGET</th>\n",
       "      <th>Ordinateur</th>\n",
       "      <th>Smartphone</th>\n",
       "      <th>Tablette</th>\n",
       "      <th>device_AUTRE</th>\n",
       "      <th>Android</th>\n",
       "      <th>OS</th>\n",
       "      <th>Windows</th>\n",
       "      <th>iOS</th>\n",
       "      <th>os_AUTRE</th>\n",
       "      <th>...</th>\n",
       "      <th>duree_max</th>\n",
       "      <th>duree_min</th>\n",
       "      <th>jvisite_fq</th>\n",
       "      <th>jvisite_moy</th>\n",
       "      <th>jvisite_rare</th>\n",
       "      <th>rub_fq</th>\n",
       "      <th>rub_min</th>\n",
       "      <th>rub_moy</th>\n",
       "      <th>last_week</th>\n",
       "      <th>no_last_week</th>\n",
       "    </tr>\n",
       "    <tr>\n",
       "      <th>identifiant</th>\n",
       "      <th></th>\n",
       "      <th></th>\n",
       "      <th></th>\n",
       "      <th></th>\n",
       "      <th></th>\n",
       "      <th></th>\n",
       "      <th></th>\n",
       "      <th></th>\n",
       "      <th></th>\n",
       "      <th></th>\n",
       "      <th></th>\n",
       "      <th></th>\n",
       "      <th></th>\n",
       "      <th></th>\n",
       "      <th></th>\n",
       "      <th></th>\n",
       "      <th></th>\n",
       "      <th></th>\n",
       "      <th></th>\n",
       "      <th></th>\n",
       "      <th></th>\n",
       "    </tr>\n",
       "  </thead>\n",
       "  <tbody>\n",
       "    <tr>\n",
       "      <th>DI10</th>\n",
       "      <td>0</td>\n",
       "      <td>1</td>\n",
       "      <td>0</td>\n",
       "      <td>0</td>\n",
       "      <td>0</td>\n",
       "      <td>0</td>\n",
       "      <td>1</td>\n",
       "      <td>0</td>\n",
       "      <td>0</td>\n",
       "      <td>0</td>\n",
       "      <td>...</td>\n",
       "      <td>0</td>\n",
       "      <td>1</td>\n",
       "      <td>0</td>\n",
       "      <td>1</td>\n",
       "      <td>0</td>\n",
       "      <td>0</td>\n",
       "      <td>0</td>\n",
       "      <td>1</td>\n",
       "      <td>1</td>\n",
       "      <td>0</td>\n",
       "    </tr>\n",
       "    <tr>\n",
       "      <th>DI1000005</th>\n",
       "      <td>0</td>\n",
       "      <td>0</td>\n",
       "      <td>1</td>\n",
       "      <td>0</td>\n",
       "      <td>0</td>\n",
       "      <td>0</td>\n",
       "      <td>0</td>\n",
       "      <td>0</td>\n",
       "      <td>1</td>\n",
       "      <td>0</td>\n",
       "      <td>...</td>\n",
       "      <td>0</td>\n",
       "      <td>1</td>\n",
       "      <td>0</td>\n",
       "      <td>0</td>\n",
       "      <td>1</td>\n",
       "      <td>0</td>\n",
       "      <td>0</td>\n",
       "      <td>1</td>\n",
       "      <td>0</td>\n",
       "      <td>1</td>\n",
       "    </tr>\n",
       "    <tr>\n",
       "      <th>DI1000026</th>\n",
       "      <td>0</td>\n",
       "      <td>0</td>\n",
       "      <td>1</td>\n",
       "      <td>0</td>\n",
       "      <td>0</td>\n",
       "      <td>0</td>\n",
       "      <td>0</td>\n",
       "      <td>0</td>\n",
       "      <td>1</td>\n",
       "      <td>0</td>\n",
       "      <td>...</td>\n",
       "      <td>0</td>\n",
       "      <td>1</td>\n",
       "      <td>0</td>\n",
       "      <td>1</td>\n",
       "      <td>0</td>\n",
       "      <td>0</td>\n",
       "      <td>1</td>\n",
       "      <td>0</td>\n",
       "      <td>0</td>\n",
       "      <td>1</td>\n",
       "    </tr>\n",
       "    <tr>\n",
       "      <th>DI1000028</th>\n",
       "      <td>0</td>\n",
       "      <td>0</td>\n",
       "      <td>1</td>\n",
       "      <td>0</td>\n",
       "      <td>0</td>\n",
       "      <td>1</td>\n",
       "      <td>0</td>\n",
       "      <td>0</td>\n",
       "      <td>0</td>\n",
       "      <td>0</td>\n",
       "      <td>...</td>\n",
       "      <td>0</td>\n",
       "      <td>1</td>\n",
       "      <td>0</td>\n",
       "      <td>1</td>\n",
       "      <td>0</td>\n",
       "      <td>0</td>\n",
       "      <td>0</td>\n",
       "      <td>1</td>\n",
       "      <td>0</td>\n",
       "      <td>1</td>\n",
       "    </tr>\n",
       "    <tr>\n",
       "      <th>DI1000029</th>\n",
       "      <td>0</td>\n",
       "      <td>1</td>\n",
       "      <td>0</td>\n",
       "      <td>0</td>\n",
       "      <td>0</td>\n",
       "      <td>0</td>\n",
       "      <td>0</td>\n",
       "      <td>1</td>\n",
       "      <td>0</td>\n",
       "      <td>0</td>\n",
       "      <td>...</td>\n",
       "      <td>1</td>\n",
       "      <td>0</td>\n",
       "      <td>1</td>\n",
       "      <td>0</td>\n",
       "      <td>0</td>\n",
       "      <td>1</td>\n",
       "      <td>0</td>\n",
       "      <td>0</td>\n",
       "      <td>0</td>\n",
       "      <td>1</td>\n",
       "    </tr>\n",
       "  </tbody>\n",
       "</table>\n",
       "<p>5 rows × 33 columns</p>\n",
       "</div>"
      ],
      "text/plain": [
       "             TARGET  Ordinateur  Smartphone  Tablette  device_AUTRE  Android  \\\n",
       "identifiant                                                                    \n",
       "DI10              0           1           0         0             0        0   \n",
       "DI1000005         0           0           1         0             0        0   \n",
       "DI1000026         0           0           1         0             0        0   \n",
       "DI1000028         0           0           1         0             0        1   \n",
       "DI1000029         0           1           0         0             0        0   \n",
       "\n",
       "             OS  Windows  iOS  os_AUTRE  ...  duree_max  duree_min  \\\n",
       "identifiant                              ...                         \n",
       "DI10          1        0    0         0  ...          0          1   \n",
       "DI1000005     0        0    1         0  ...          0          1   \n",
       "DI1000026     0        0    1         0  ...          0          1   \n",
       "DI1000028     0        0    0         0  ...          0          1   \n",
       "DI1000029     0        1    0         0  ...          1          0   \n",
       "\n",
       "             jvisite_fq  jvisite_moy  jvisite_rare  rub_fq  rub_min  rub_moy  \\\n",
       "identifiant                                                                    \n",
       "DI10                  0            1             0       0        0        1   \n",
       "DI1000005             0            0             1       0        0        1   \n",
       "DI1000026             0            1             0       0        1        0   \n",
       "DI1000028             0            1             0       0        0        1   \n",
       "DI1000029             1            0             0       1        0        0   \n",
       "\n",
       "             last_week  no_last_week  \n",
       "identifiant                           \n",
       "DI10                 1             0  \n",
       "DI1000005            0             1  \n",
       "DI1000026            0             1  \n",
       "DI1000028            0             1  \n",
       "DI1000029            0             1  \n",
       "\n",
       "[5 rows x 33 columns]"
      ]
     },
     "execution_count": 25,
     "metadata": {},
     "output_type": "execute_result"
    }
   ],
   "source": [
    "processed_dataset.head()"
   ]
  },
  {
   "cell_type": "code",
   "execution_count": 26,
   "metadata": {
    "scrolled": true
   },
   "outputs": [
    {
     "name": "stderr",
     "output_type": "stream",
     "text": [
      "C:\\Users\\Lenovo\\Anaconda3\\lib\\site-packages\\pandas\\core\\reshape\\merge.py:522: UserWarning: merging between different levels can give an unintended result (1 levels on the left, 2 on the right)\n",
      "  warnings.warn(msg, UserWarning)\n",
      "C:\\Users\\Lenovo\\Anaconda3\\lib\\site-packages\\ipykernel_launcher.py:4: SettingWithCopyWarning: \n",
      "A value is trying to be set on a copy of a slice from a DataFrame\n",
      "\n",
      "See the caveats in the documentation: http://pandas.pydata.org/pandas-docs/stable/indexing.html#indexing-view-versus-copy\n",
      "  after removing the cwd from sys.path.\n"
     ]
    },
    {
     "data": {
      "text/html": [
       "<div>\n",
       "<style scoped>\n",
       "    .dataframe tbody tr th:only-of-type {\n",
       "        vertical-align: middle;\n",
       "    }\n",
       "\n",
       "    .dataframe tbody tr th {\n",
       "        vertical-align: top;\n",
       "    }\n",
       "\n",
       "    .dataframe thead th {\n",
       "        text-align: right;\n",
       "    }\n",
       "</style>\n",
       "<table border=\"1\" class=\"dataframe\">\n",
       "  <thead>\n",
       "    <tr style=\"text-align: right;\">\n",
       "      <th></th>\n",
       "      <th>(rubrique, count)</th>\n",
       "      <th>duree_visite_moyenne</th>\n",
       "      <th>visite_totale</th>\n",
       "      <th>avg_visite_jour</th>\n",
       "      <th>dernier_jour</th>\n",
       "      <th>Ordinateur</th>\n",
       "      <th>Smartphone</th>\n",
       "      <th>Tablette</th>\n",
       "      <th>device_AUTRE</th>\n",
       "      <th>Android</th>\n",
       "      <th>...</th>\n",
       "      <th>Autres</th>\n",
       "      <th>Chrome</th>\n",
       "      <th>Firefox</th>\n",
       "      <th>Safari</th>\n",
       "      <th>browser_AUTRE</th>\n",
       "      <th>Acces Direct</th>\n",
       "      <th>Email marketing</th>\n",
       "      <th>Moteurs</th>\n",
       "      <th>Reseaux Sociaux</th>\n",
       "      <th>source_AUTRE</th>\n",
       "    </tr>\n",
       "    <tr>\n",
       "      <th>identifiant</th>\n",
       "      <th></th>\n",
       "      <th></th>\n",
       "      <th></th>\n",
       "      <th></th>\n",
       "      <th></th>\n",
       "      <th></th>\n",
       "      <th></th>\n",
       "      <th></th>\n",
       "      <th></th>\n",
       "      <th></th>\n",
       "      <th></th>\n",
       "      <th></th>\n",
       "      <th></th>\n",
       "      <th></th>\n",
       "      <th></th>\n",
       "      <th></th>\n",
       "      <th></th>\n",
       "      <th></th>\n",
       "      <th></th>\n",
       "      <th></th>\n",
       "      <th></th>\n",
       "    </tr>\n",
       "  </thead>\n",
       "  <tbody>\n",
       "    <tr>\n",
       "      <th>DI100001</th>\n",
       "      <td>1</td>\n",
       "      <td>0.000000</td>\n",
       "      <td>1</td>\n",
       "      <td>1.000000</td>\n",
       "      <td>17</td>\n",
       "      <td>0</td>\n",
       "      <td>0</td>\n",
       "      <td>0</td>\n",
       "      <td>1</td>\n",
       "      <td>0</td>\n",
       "      <td>...</td>\n",
       "      <td>1</td>\n",
       "      <td>0</td>\n",
       "      <td>0</td>\n",
       "      <td>0</td>\n",
       "      <td>0</td>\n",
       "      <td>0</td>\n",
       "      <td>0</td>\n",
       "      <td>0</td>\n",
       "      <td>0</td>\n",
       "      <td>1</td>\n",
       "    </tr>\n",
       "    <tr>\n",
       "      <th>DI1000138</th>\n",
       "      <td>2</td>\n",
       "      <td>0.000000</td>\n",
       "      <td>2</td>\n",
       "      <td>2.000000</td>\n",
       "      <td>14</td>\n",
       "      <td>1</td>\n",
       "      <td>0</td>\n",
       "      <td>0</td>\n",
       "      <td>0</td>\n",
       "      <td>0</td>\n",
       "      <td>...</td>\n",
       "      <td>0</td>\n",
       "      <td>0</td>\n",
       "      <td>0</td>\n",
       "      <td>0</td>\n",
       "      <td>1</td>\n",
       "      <td>1</td>\n",
       "      <td>0</td>\n",
       "      <td>0</td>\n",
       "      <td>0</td>\n",
       "      <td>0</td>\n",
       "    </tr>\n",
       "    <tr>\n",
       "      <th>DI1000166</th>\n",
       "      <td>2</td>\n",
       "      <td>0.000000</td>\n",
       "      <td>2</td>\n",
       "      <td>2.000000</td>\n",
       "      <td>14</td>\n",
       "      <td>1</td>\n",
       "      <td>0</td>\n",
       "      <td>0</td>\n",
       "      <td>0</td>\n",
       "      <td>0</td>\n",
       "      <td>...</td>\n",
       "      <td>0</td>\n",
       "      <td>0</td>\n",
       "      <td>0</td>\n",
       "      <td>0</td>\n",
       "      <td>1</td>\n",
       "      <td>0</td>\n",
       "      <td>0</td>\n",
       "      <td>1</td>\n",
       "      <td>0</td>\n",
       "      <td>0</td>\n",
       "    </tr>\n",
       "    <tr>\n",
       "      <th>DI1000167</th>\n",
       "      <td>17</td>\n",
       "      <td>101.294118</td>\n",
       "      <td>17</td>\n",
       "      <td>5.666667</td>\n",
       "      <td>16</td>\n",
       "      <td>0</td>\n",
       "      <td>1</td>\n",
       "      <td>0</td>\n",
       "      <td>0</td>\n",
       "      <td>1</td>\n",
       "      <td>...</td>\n",
       "      <td>0</td>\n",
       "      <td>0</td>\n",
       "      <td>0</td>\n",
       "      <td>0</td>\n",
       "      <td>1</td>\n",
       "      <td>1</td>\n",
       "      <td>0</td>\n",
       "      <td>0</td>\n",
       "      <td>0</td>\n",
       "      <td>0</td>\n",
       "    </tr>\n",
       "    <tr>\n",
       "      <th>DI1000188</th>\n",
       "      <td>2</td>\n",
       "      <td>0.000000</td>\n",
       "      <td>2</td>\n",
       "      <td>2.000000</td>\n",
       "      <td>14</td>\n",
       "      <td>1</td>\n",
       "      <td>0</td>\n",
       "      <td>0</td>\n",
       "      <td>0</td>\n",
       "      <td>0</td>\n",
       "      <td>...</td>\n",
       "      <td>0</td>\n",
       "      <td>0</td>\n",
       "      <td>1</td>\n",
       "      <td>0</td>\n",
       "      <td>0</td>\n",
       "      <td>0</td>\n",
       "      <td>0</td>\n",
       "      <td>0</td>\n",
       "      <td>1</td>\n",
       "      <td>0</td>\n",
       "    </tr>\n",
       "  </tbody>\n",
       "</table>\n",
       "<p>5 rows × 24 columns</p>\n",
       "</div>"
      ],
      "text/plain": [
       "             (rubrique, count)  duree_visite_moyenne  visite_totale  \\\n",
       "identifiant                                                           \n",
       "DI100001                     1              0.000000              1   \n",
       "DI1000138                    2              0.000000              2   \n",
       "DI1000166                    2              0.000000              2   \n",
       "DI1000167                   17            101.294118             17   \n",
       "DI1000188                    2              0.000000              2   \n",
       "\n",
       "             avg_visite_jour  dernier_jour  Ordinateur  Smartphone  Tablette  \\\n",
       "identifiant                                                                    \n",
       "DI100001            1.000000            17           0           0         0   \n",
       "DI1000138           2.000000            14           1           0         0   \n",
       "DI1000166           2.000000            14           1           0         0   \n",
       "DI1000167           5.666667            16           0           1         0   \n",
       "DI1000188           2.000000            14           1           0         0   \n",
       "\n",
       "             device_AUTRE  Android  ...  Autres  Chrome  Firefox  Safari  \\\n",
       "identifiant                         ...                                    \n",
       "DI100001                1        0  ...       1       0        0       0   \n",
       "DI1000138               0        0  ...       0       0        0       0   \n",
       "DI1000166               0        0  ...       0       0        0       0   \n",
       "DI1000167               0        1  ...       0       0        0       0   \n",
       "DI1000188               0        0  ...       0       0        1       0   \n",
       "\n",
       "             browser_AUTRE  Acces Direct  Email marketing  Moteurs  \\\n",
       "identifiant                                                          \n",
       "DI100001                 0             0                0        0   \n",
       "DI1000138                1             1                0        0   \n",
       "DI1000166                1             0                0        1   \n",
       "DI1000167                1             1                0        0   \n",
       "DI1000188                0             0                0        0   \n",
       "\n",
       "             Reseaux Sociaux  source_AUTRE  \n",
       "identifiant                                 \n",
       "DI100001                   0             1  \n",
       "DI1000138                  0             0  \n",
       "DI1000166                  0             0  \n",
       "DI1000167                  0             0  \n",
       "DI1000188                  1             0  \n",
       "\n",
       "[5 rows x 24 columns]"
      ]
     },
     "execution_count": 26,
     "metadata": {},
     "output_type": "execute_result"
    }
   ],
   "source": [
    "processed_to_predict_dataset=process_dataset(cookies_to_predict,pd.DataFrame())\n",
    "processed_to_predict_dataset.head()"
   ]
  },
  {
   "cell_type": "markdown",
   "metadata": {},
   "source": [
    "# HOT ENCODING for cookies prediction dataset \n"
   ]
  },
  {
   "cell_type": "code",
   "execution_count": 27,
   "metadata": {},
   "outputs": [],
   "source": [
    "visite(processed_to_predict_dataset)\n",
    "VISITE = binarise(processed_to_predict_dataset,\"VISITE\")\n",
    "processed_to_predict_dataset=concat_by_identifiat(processed_to_predict_dataset,VISITE)\n",
    "processed_to_predict_dataset= processed_to_predict_dataset.drop([\"VISITE\"],axis = 1)\n",
    "processed_to_predict_dataset= processed_to_predict_dataset.drop([\"visite_totale\"],axis = 1)\n",
    "\n",
    "duree(processed_to_predict_dataset)\n",
    "DVISITE = binarise(processed_to_predict_dataset,\"DUREE_VISITE\")\n",
    "processed_to_predict_dataset=concat_by_identifiat(processed_to_predict_dataset,DVISITE)\n",
    "processed_to_predict_dataset= processed_to_predict_dataset.drop([\"DUREE_VISITE\"],axis = 1)\n",
    "processed_to_predict_dataset= processed_to_predict_dataset.drop([\"duree_visite_moyenne\"],axis = 1)\n",
    "\n",
    "jour_visite(processed_to_predict_dataset)\n",
    "JVISITE = binarise(processed_to_predict_dataset,\"JOUR_VISITE\")\n",
    "processed_to_predict_dataset=concat_by_identifiat(processed_to_predict_dataset,JVISITE)\n",
    "processed_to_predict_dataset= processed_to_predict_dataset.drop([\"JOUR_VISITE\"],axis = 1)\n",
    "processed_to_predict_dataset= processed_to_predict_dataset.drop([\"avg_visite_jour\"],axis = 1)\n",
    "\n",
    "rubrique(processed_to_predict_dataset)\n",
    "RUB = binarise(processed_to_predict_dataset,\"RUB\")\n",
    "processed_to_predict_dataset=concat_by_identifiat(processed_to_predict_dataset,RUB)\n",
    "processed_to_predict_dataset= processed_to_predict_dataset.drop([\"RUB\"],axis = 1)\n",
    "processed_to_predict_dataset= processed_to_predict_dataset.drop([processed_to_predict_dataset.columns[0]],axis = 1)\n",
    "\n",
    "last(processed_to_predict_dataset)\n",
    "LW = binarise(processed_to_predict_dataset,\"LAST_WEEK\")\n",
    "processed_to_predict_dataset=concat_by_identifiat(processed_to_predict_dataset,LW)\n",
    "processed_to_predict_dataset= processed_to_predict_dataset.drop([\"LAST_WEEK\"],axis = 1)\n",
    "processed_to_predict_dataset= processed_to_predict_dataset.drop([\"dernier_jour\"],axis = 1)\n"
   ]
  },
  {
   "cell_type": "code",
   "execution_count": 28,
   "metadata": {},
   "outputs": [],
   "source": [
    "processed_to_predict_dataset['rub_moy']=np.zeros(processed_to_predict_dataset.shape[0],dtype=int)"
   ]
  },
  {
   "cell_type": "code",
   "execution_count": 30,
   "metadata": {},
   "outputs": [],
   "source": [
    "processed_dataset_copy=processed_dataset.copy()\n",
    "processed_dataset_copy=processed_dataset_copy.drop(['no_last_week','visite_fq','visite_moy','visite_rare',\"duree_min\",\"Ordinateur\",\"os_AUTRE\",\"Chrome\",\"Firefox\",\"Safari\",\"browser_AUTRE\"],axis=1)"
   ]
  },
  {
   "cell_type": "markdown",
   "metadata": {},
   "source": [
    "# Model Training\n"
   ]
  },
  {
   "cell_type": "code",
   "execution_count": 69,
   "metadata": {},
   "outputs": [],
   "source": [
    "x= processed_dataset_copy.drop([\"TARGET\"],axis = 1).values\n",
    "y= processed_dataset_copy.TARGET\n"
   ]
  },
  {
   "cell_type": "markdown",
   "metadata": {},
   "source": [
    "# Split dataset for model evaluation"
   ]
  },
  {
   "cell_type": "code",
   "execution_count": 33,
   "metadata": {},
   "outputs": [],
   "source": [
    "X_train,X_test,y_train,y_test=train_test_split(x,y,test_size=0.2,random_state=41)"
   ]
  },
  {
   "cell_type": "markdown",
   "metadata": {},
   "source": [
    "# RandomForest"
   ]
  },
  {
   "cell_type": "code",
   "execution_count": 116,
   "metadata": {},
   "outputs": [
    {
     "name": "stderr",
     "output_type": "stream",
     "text": [
      "C:\\Users\\Lenovo\\Anaconda3\\lib\\site-packages\\sklearn\\ensemble\\forest.py:246: FutureWarning: The default value of n_estimators will change from 10 in version 0.20 to 100 in 0.22.\n",
      "  \"10 in version 0.20 to 100 in 0.22.\", FutureWarning)\n"
     ]
    }
   ],
   "source": [
    "RF_classifier = RandomForestClassifier()\n",
    "RF_classifier.fit(X_train,y_train)\n",
    "y_predicted=RF_classifier.predict(X_test)"
   ]
  },
  {
   "cell_type": "markdown",
   "metadata": {},
   "source": [
    "### Evaluation"
   ]
  },
  {
   "cell_type": "code",
   "execution_count": 118,
   "metadata": {},
   "outputs": [
    {
     "data": {
      "text/plain": [
       "array([[58640,    20],\n",
       "       [ 1069,     5]], dtype=int64)"
      ]
     },
     "execution_count": 118,
     "metadata": {},
     "output_type": "execute_result"
    }
   ],
   "source": [
    "confusion_matrix(y_test,y_predicted)"
   ]
  },
  {
   "cell_type": "code",
   "execution_count": 119,
   "metadata": {},
   "outputs": [
    {
     "data": {
      "image/png": "[encoded data removed]",
      "text/plain": [
       "<Figure size 500x500 with 1 Axes>"
      ]
     },
     "metadata": {
      "needs_background": "light"
     },
     "output_type": "display_data"
    }
   ],
   "source": [
    "RF_fpr, RF_tpr, threshold = roc_curve(y_test, RF_classifier.predict(X_test))\n",
    "auc_RF = auc(RF_fpr, RF_tpr)\n",
    "plt.figure(figsize=(5, 5), dpi=100)\n",
    "plt.plot(RF_fpr, RF_tpr, marker='.', label='Random Forest (auc = %0.3f)' % auc_RF)\n",
    "plt.xlabel('False Positive Rate -->')\n",
    "plt.ylabel('True Positive Rate -->')\n",
    "plt.legend()\n",
    "plt.show()"
   ]
  },
  {
   "cell_type": "markdown",
   "metadata": {},
   "source": [
    "# Logistic Regression\n"
   ]
  },
  {
   "cell_type": "code",
   "execution_count": 73,
   "metadata": {},
   "outputs": [
    {
     "name": "stderr",
     "output_type": "stream",
     "text": [
      "C:\\Users\\Lenovo\\Anaconda3\\lib\\site-packages\\sklearn\\linear_model\\logistic.py:433: FutureWarning: Default solver will be changed to 'lbfgs' in 0.22. Specify a solver to silence this warning.\n",
      "  FutureWarning)\n"
     ]
    },
    {
     "data": {
      "image/png": "[encoded data removed]",
      "text/plain": [
       "<Figure size 720x504 with 1 Axes>"
      ]
     },
     "metadata": {
      "needs_background": "light"
     },
     "output_type": "display_data"
    }
   ],
   "source": [
    "X_train, X_test, y_train, y_test = train_test_split(x,y,test_size=0.2, random_state = 42)\n",
    "# Instantiating a logisitic regression model\n",
    "logreg = LogisticRegression()\n",
    "logreg.fit(X_train, y_train)    # model fitting\n",
    "y_pred = logreg.predict(X_test)   # Predictions\n",
    "# Calculating class probabilities\n",
    "pred_proba = [i[1] for i in logreg.predict_proba(X_test)]\n",
    "pred_df = pd.DataFrame({'true_values': y_test,\n",
    "                        'pred_probs':pred_proba})\n",
    "# The codes below is motly copied from the code written by Matt Brem, Global Instructor at General Assembly.\n",
    "# Create figure.\n",
    "plt.figure(figsize = (10,7))\n",
    "\n",
    "# Create threshold values. \n",
    "thresholds = np.linspace(0, 1, 200)\n",
    "# Define function to calculate sensitivity. (True positive rate.)\n",
    "def TPR(df, true_col, pred_prob_col, threshold):\n",
    "    true_positive = df[(df[true_col] == 1) & (df[pred_prob_col] >= threshold)].shape[0]\n",
    "    false_negative = df[(df[true_col] == 1) & (df[pred_prob_col] < threshold)].shape[0]\n",
    "    return true_positive / (true_positive + false_negative)\n",
    "    \n",
    "# Define function to calculate 1 - specificity. (False positive rate.)\n",
    "def FPR(df, true_col, pred_prob_col, threshold):\n",
    "    true_negative = df[(df[true_col] == 0) & (df[pred_prob_col] <= threshold)].shape[0]\n",
    "    false_positive = df[(df[true_col] == 0) & (df[pred_prob_col] > threshold)].shape[0]\n",
    "    return 1 - (true_negative / (true_negative + false_positive))\n",
    "    \n",
    "# Calculate sensitivity & 1-specificity for each threshold between 0 and 1.\n",
    "tpr_values = [TPR(pred_df, 'true_values', 'pred_probs', prob) for prob in thresholds]\n",
    "fpr_values = [FPR(pred_df, 'true_values', 'pred_probs', prob) for prob in thresholds]\n",
    "# Plot ROC curve.\n",
    "plt.plot(fpr_values, # False Positive Rate on X-axis\n",
    "         tpr_values, # True Positive Rate on Y-axis\n",
    "         label='ROC Curve')\n",
    "\n",
    "# Plot baseline. (Perfect overlap between the two populations.)\n",
    "plt.plot(np.linspace(0, 1, 200),\n",
    "         np.linspace(0, 1, 200),\n",
    "         label='baseline',\n",
    "         linestyle='--')\n",
    "# Label axes.\n",
    "plt.title(f\"ROC Curve with AUC = {round(roc_auc_score(pred_df['true_values'], pred_df['pred_probs']),3)}\", fontsize=22)\n",
    "plt.ylabel('Sensitivity', fontsize=18)\n",
    "plt.xlabel('1 - Specificity', fontsize=18)\n",
    "# Create legend.\n",
    "plt.legend(fontsize=16);"
   ]
  },
  {
   "cell_type": "markdown",
   "metadata": {},
   "source": [
    "## We notice that the second method gave a good result because it is based on probabilities, the thing that gives more precision.\n"
   ]
  },
  {
   "cell_type": "code",
   "execution_count": 82,
   "metadata": {},
   "outputs": [],
   "source": [
    "X_final=processed_to_predict_dataset.copy()\n",
    "X_final=X_final.drop(['no_last_week','visite_fq','visite_moy','visite_rare',\"duree_min\",\"Ordinateur\",\"os_AUTRE\",\"Chrome\",\"Firefox\",\"Safari\",\"browser_AUTRE\"],axis=1)"
   ]
  },
  {
   "cell_type": "code",
   "execution_count": 83,
   "metadata": {},
   "outputs": [],
   "source": [
    "y_final_pred = logreg.predict(X_final)   \n"
   ]
  },
  {
   "cell_type": "code",
   "execution_count": 102,
   "metadata": {},
   "outputs": [],
   "source": [
    "df_final = pd.DataFrame()\n",
    "df_final[\"identifiant\"]= X_final.index\n",
    "df_final[\"TARGET\"]=y_final_pred"
   ]
  },
  {
   "cell_type": "code",
   "execution_count": 103,
   "metadata": {},
   "outputs": [],
   "source": [
    "df_final.set_index('identifiant', inplace=True)"
   ]
  },
  {
   "cell_type": "code",
   "execution_count": 123,
   "metadata": {},
   "outputs": [],
   "source": [
    "df_final.to_csv(\"Subscribers_20.txt\")"
   ]
  },
  {
   "cell_type": "code",
   "execution_count": null,
   "metadata": {},
   "outputs": [],
   "source": []
  }
 ],
 "metadata": {
  "kernelspec": {
   "display_name": "Python 3",
   "language": "python",
   "name": "python3"
  },
  "language_info": {
   "codemirror_mode": {
    "name": "ipython",
    "version": 3
   },
   "file_extension": ".py",
   "mimetype": "text/x-python",
   "name": "python",
   "nbconvert_exporter": "python",
   "pygments_lexer": "ipython3",
   "version": "3.8.5"
  }
 },
 "nbformat": 4,
 "nbformat_minor": 2
}
